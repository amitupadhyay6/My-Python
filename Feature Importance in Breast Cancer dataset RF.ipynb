{
 "cells": [
  {
   "cell_type": "code",
   "execution_count": 4,
   "metadata": {},
   "outputs": [
    {
     "data": {
      "text/plain": [
       "['.ipynb_checkpoints',\n",
       " 'AddaBoosting.ipynb',\n",
       " 'Bagging on Breast Cancer dataset.ipynb',\n",
       " 'bagging-Out-of-Bag Evaluation.ipynb',\n",
       " 'bagging.ipynb',\n",
       " 'ExtraTreeClassifer.ipynb',\n",
       " 'Features Importance.ipynb',\n",
       " 'Gradient Boosting.ipynb',\n",
       " 'pasting.ipynb',\n",
       " 'RandomForest.ipynb',\n",
       " 'Stacking.ipynb',\n",
       " 'Voting Ensemble Classification.ipynb',\n",
       " 'Voting Ensemble Classification1.0.ipynb',\n",
       " 'Voting Ensemble Regression.ipynb']"
      ]
     },
     "execution_count": 4,
     "metadata": {},
     "output_type": "execute_result"
    }
   ],
   "source": [
    "from sklearn.ensemble import RandomForestClassifier\n",
    "from sklearn import datasets\n",
    "\n",
    "import warnings\n",
    "warnings.filterwarnings(\"ignore\")\n",
    "\n",
    "import os\n",
    "os.listdir()"
   ]
  },
  {
   "cell_type": "code",
   "execution_count": 7,
   "metadata": {},
   "outputs": [],
   "source": [
    "# os.listdir(\"C:\\Personal Data\\ML\\Books\")  ##### To list any specefic directory "
   ]
  },
  {
   "cell_type": "code",
   "execution_count": 8,
   "metadata": {},
   "outputs": [],
   "source": [
    "brc = datasets.load_breast_cancer()"
   ]
  },
  {
   "cell_type": "code",
   "execution_count": 9,
   "metadata": {},
   "outputs": [],
   "source": [
    "x = brc.data\n",
    "y = brc.target"
   ]
  },
  {
   "cell_type": "code",
   "execution_count": 11,
   "metadata": {},
   "outputs": [],
   "source": [
    "rf = RandomForestClassifier(\n",
    "    n_estimators=500,\n",
    "    criterion='gini',\n",
    "    max_depth=None,\n",
    "    min_samples_split=2,\n",
    "    min_samples_leaf=1,\n",
    "    min_weight_fraction_leaf=0.0,\n",
    "    max_features='auto',\n",
    "    max_leaf_nodes=None,\n",
    "    min_impurity_decrease=0.0,\n",
    "    min_impurity_split=None,\n",
    "    bootstrap=True,\n",
    "    oob_score=False,\n",
    "    n_jobs=None,\n",
    "    random_state=9,\n",
    "    verbose=0,\n",
    "    warm_start=False,\n",
    "    class_weight=None,\n",
    "    ccp_alpha=0.0,\n",
    "    max_samples=None,\n",
    ")"
   ]
  },
  {
   "cell_type": "code",
   "execution_count": 12,
   "metadata": {},
   "outputs": [
    {
     "data": {
      "text/plain": [
       "RandomForestClassifier(bootstrap=True, ccp_alpha=0.0, class_weight=None,\n",
       "                       criterion='gini', max_depth=None, max_features='auto',\n",
       "                       max_leaf_nodes=None, max_samples=None,\n",
       "                       min_impurity_decrease=0.0, min_impurity_split=None,\n",
       "                       min_samples_leaf=1, min_samples_split=2,\n",
       "                       min_weight_fraction_leaf=0.0, n_estimators=500,\n",
       "                       n_jobs=None, oob_score=False, random_state=9, verbose=0,\n",
       "                       warm_start=False)"
      ]
     },
     "execution_count": 12,
     "metadata": {},
     "output_type": "execute_result"
    }
   ],
   "source": [
    "rf.fit(x,y)"
   ]
  },
  {
   "cell_type": "code",
   "execution_count": 13,
   "metadata": {},
   "outputs": [
    {
     "data": {
      "text/plain": [
       "array([0.05231945, 0.01622992, 0.03793785, 0.04506039, 0.00558419,\n",
       "       0.01251706, 0.04701539, 0.10038339, 0.00372898, 0.00363355,\n",
       "       0.01182549, 0.00504456, 0.01217291, 0.03668668, 0.00459613,\n",
       "       0.00430761, 0.00576831, 0.00345117, 0.00360355, 0.00471136,\n",
       "       0.11361359, 0.01795493, 0.12316224, 0.1130574 , 0.01448789,\n",
       "       0.0175862 , 0.02912834, 0.13853795, 0.00909401, 0.0067995 ])"
      ]
     },
     "execution_count": 13,
     "metadata": {},
     "output_type": "execute_result"
    }
   ],
   "source": [
    "rf.feature_importances_"
   ]
  },
  {
   "cell_type": "code",
   "execution_count": 16,
   "metadata": {},
   "outputs": [
    {
     "name": "stdout",
     "output_type": "stream",
     "text": [
      "mean radius  :  0.0523194493851625\n",
      "mean texture  :  0.016229920047161405\n",
      "mean perimeter  :  0.03793785184908337\n",
      "mean area  :  0.045060393639883456\n",
      "mean smoothness  :  0.005584191916913358\n",
      "mean compactness  :  0.012517059835959712\n",
      "mean concavity  :  0.047015391078265835\n",
      "mean concave points  :  0.10038338752894042\n",
      "mean symmetry  :  0.003728979667294221\n",
      "mean fractal dimension  :  0.003633550319661907\n",
      "radius error  :  0.011825491923862964\n",
      "texture error  :  0.005044559165297413\n",
      "perimeter error  :  0.012172906114196915\n",
      "area error  :  0.036686679434066984\n",
      "smoothness error  :  0.004596134186370717\n",
      "compactness error  :  0.004307607435741616\n",
      "concavity error  :  0.005768310584776274\n",
      "concave points error  :  0.003451171985282805\n",
      "symmetry error  :  0.0036035473968403413\n",
      "fractal dimension error  :  0.004711355401425989\n",
      "worst radius  :  0.11361359429995668\n",
      "worst texture  :  0.017954926217393613\n",
      "worst perimeter  :  0.12316223871152066\n",
      "worst area  :  0.11305740320296262\n",
      "worst smoothness  :  0.01448789314823142\n",
      "worst compactness  :  0.01758620341020476\n",
      "worst concavity  :  0.02912834237557805\n",
      "worst concave points  :  0.13853795044666947\n",
      "worst symmetry  :  0.009094009849006641\n",
      "worst fractal dimension  :  0.0067994994422879065\n"
     ]
    }
   ],
   "source": [
    "for feature, score in zip(brc.feature_names, rf.feature_importances_):\n",
    "    print(feature, \" : \", score)\n",
    "    "
   ]
  },
  {
   "cell_type": "code",
   "execution_count": null,
   "metadata": {},
   "outputs": [],
   "source": []
  }
 ],
 "metadata": {
  "kernelspec": {
   "display_name": "Python 3",
   "language": "python",
   "name": "python3"
  },
  "language_info": {
   "codemirror_mode": {
    "name": "ipython",
    "version": 3
   },
   "file_extension": ".py",
   "mimetype": "text/x-python",
   "name": "python",
   "nbconvert_exporter": "python",
   "pygments_lexer": "ipython3",
   "version": "3.7.6"
  }
 },
 "nbformat": 4,
 "nbformat_minor": 4
}
